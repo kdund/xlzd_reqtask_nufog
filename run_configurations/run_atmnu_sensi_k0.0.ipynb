{
 "cells": [
  {
   "cell_type": "code",
   "execution_count": 1,
   "id": "7b0c6dd8-f415-45e8-8f0e-5df2ab478da8",
   "metadata": {
    "tags": []
   },
   "outputs": [],
   "source": [
    "import numpy as np\n",
    "import matplotlib.pyplot as plt\n",
    "import scipy.stats as stats\n",
    "from copy import deepcopy\n",
    "\n",
    "from alea import BlueiceExtendedModel, Runner\n",
    "import inference_interface as ii\n",
    "import scipy.stats as sps\n",
    "\n",
    "\n",
    "\n",
    "\n"
   ]
  },
  {
   "cell_type": "code",
   "execution_count": 2,
   "id": "a4edf856-738a-4df7-8ca3-3b9a8d0ef6c7",
   "metadata": {
    "tags": []
   },
   "outputs": [
    {
     "ename": "RuntimeError",
     "evalue": "Can not find xlzd_model_unconstrained_nu.yaml, please check your file system",
     "output_type": "error",
     "traceback": [
      "\u001b[0;31m---------------------------------------------------------------------------\u001b[0m",
      "\u001b[0;31mRuntimeError\u001b[0m                              Traceback (most recent call last)",
      "Cell \u001b[0;32mIn [2], line 4\u001b[0m\n\u001b[1;32m      1\u001b[0m livetime \u001b[38;5;241m=\u001b[39m \u001b[38;5;241m14\u001b[39m\n\u001b[1;32m      2\u001b[0m true_corm \u001b[38;5;241m=\u001b[39m \u001b[38;5;241m1.\u001b[39m\n\u001b[0;32m----> 4\u001b[0m runner \u001b[38;5;241m=\u001b[39m \u001b[43mRunner\u001b[49m\u001b[43m(\u001b[49m\n\u001b[1;32m      5\u001b[0m \u001b[43m    \u001b[49m\u001b[43mstatistical_model\u001b[49m\u001b[43m \u001b[49m\u001b[38;5;241;43m=\u001b[39;49m\u001b[43m \u001b[49m\u001b[38;5;124;43m\"\u001b[39;49m\u001b[38;5;124;43malea.BlueiceExtendedModel\u001b[39;49m\u001b[38;5;124;43m\"\u001b[39;49m\u001b[43m,\u001b[49m\n\u001b[1;32m      6\u001b[0m \u001b[43m    \u001b[49m\u001b[43mstatistical_model_config\u001b[49m\u001b[38;5;241;43m=\u001b[39;49m\u001b[38;5;124;43m\"\u001b[39;49m\u001b[38;5;124;43mxlzd_model_unconstrained_nu.yaml\u001b[39;49m\u001b[38;5;124;43m\"\u001b[39;49m\u001b[43m,\u001b[49m\u001b[43m \u001b[49m\n\u001b[1;32m      7\u001b[0m \u001b[43m    \u001b[49m\u001b[43mhypotheses\u001b[49m\u001b[43m \u001b[49m\u001b[38;5;241;43m=\u001b[39;49m\u001b[43m \u001b[49m\u001b[43m[\u001b[49m\u001b[38;5;124;43m\"\u001b[39;49m\u001b[38;5;124;43mfree\u001b[39;49m\u001b[38;5;124;43m\"\u001b[39;49m\u001b[43m,\u001b[49m\u001b[38;5;124;43m\"\u001b[39;49m\u001b[38;5;124;43mzero\u001b[39;49m\u001b[38;5;124;43m\"\u001b[39;49m\u001b[43m]\u001b[49m\u001b[43m,\u001b[49m\n\u001b[1;32m      8\u001b[0m \u001b[43m    \u001b[49m\u001b[43mpoi\u001b[49m\u001b[43m \u001b[49m\u001b[38;5;241;43m=\u001b[39;49m\u001b[43m \u001b[49m\u001b[38;5;124;43m\"\u001b[39;49m\u001b[38;5;124;43mCEvNS_other_rate_multiplier\u001b[39;49m\u001b[38;5;124;43m\"\u001b[39;49m\u001b[43m,\u001b[49m\n\u001b[1;32m      9\u001b[0m \u001b[43m    \u001b[49m\u001b[43mnominal_values\u001b[49m\u001b[43m \u001b[49m\u001b[38;5;241;43m=\u001b[39;49m\u001b[43m \u001b[49m\u001b[43m{\u001b[49m\u001b[38;5;124;43m\"\u001b[39;49m\u001b[38;5;124;43mlivetime\u001b[39;49m\u001b[38;5;124;43m\"\u001b[39;49m\u001b[43m:\u001b[49m\u001b[43mlivetime\u001b[49m\u001b[43m}\u001b[49m\u001b[43m,\u001b[49m\n\u001b[1;32m     10\u001b[0m \u001b[43m    \u001b[49m\u001b[43mgenerate_values\u001b[49m\u001b[43m \u001b[49m\u001b[38;5;241;43m=\u001b[39;49m\u001b[43m \u001b[49m\u001b[43m{\u001b[49m\u001b[38;5;124;43m\"\u001b[39;49m\u001b[38;5;124;43mCEvNS_other_rate_multiplier\u001b[39;49m\u001b[38;5;124;43m\"\u001b[39;49m\u001b[43m:\u001b[49m\u001b[43mtrue_corm\u001b[49m\u001b[43m}\u001b[49m\u001b[43m,\u001b[49m\n\u001b[1;32m     11\u001b[0m \u001b[43m    \u001b[49m\u001b[43mcompute_confidence_interval\u001b[49m\u001b[43m \u001b[49m\u001b[38;5;241;43m=\u001b[39;49m\u001b[43m \u001b[49m\u001b[38;5;28;43;01mTrue\u001b[39;49;00m\u001b[43m,\u001b[49m\n\u001b[1;32m     12\u001b[0m \u001b[43m    \u001b[49m\u001b[43moutput_filename\u001b[49m\u001b[43m \u001b[49m\u001b[38;5;241;43m=\u001b[39;49m\u001b[43m \u001b[49m\u001b[38;5;124;43m\"\u001b[39;49m\u001b[38;5;124;43mtoymc_xlzd_cevns_other_rate_multiploier\u001b[39;49m\u001b[38;5;132;43;01m{:.2f}\u001b[39;49;00m\u001b[38;5;124;43m_\u001b[39;49m\u001b[38;5;132;43;01m{:.1f}\u001b[39;49;00m\u001b[38;5;124;43mty.ii.hf\u001b[39;49m\u001b[38;5;124;43m\"\u001b[39;49m\u001b[38;5;241;43m.\u001b[39;49m\u001b[43mformat\u001b[49m\u001b[43m(\u001b[49m\u001b[43mtrue_corm\u001b[49m\u001b[43m,\u001b[49m\u001b[43m \u001b[49m\u001b[43mlivetime\u001b[49m\u001b[43m)\u001b[49m\u001b[43m,\u001b[49m\n\u001b[1;32m     13\u001b[0m \u001b[43m    \u001b[49m\u001b[43mtoydata_mode\u001b[49m\u001b[43m \u001b[49m\u001b[38;5;241;43m=\u001b[39;49m\u001b[43m \u001b[49m\u001b[38;5;124;43m\"\u001b[39;49m\u001b[38;5;124;43mgenerate\u001b[39;49m\u001b[38;5;124;43m\"\u001b[39;49m\u001b[43m,\u001b[49m\n\u001b[1;32m     14\u001b[0m \u001b[43m    \u001b[49m\u001b[43mn_mc\u001b[49m\u001b[43m \u001b[49m\u001b[38;5;241;43m=\u001b[39;49m\u001b[43m \u001b[49m\u001b[38;5;241;43m10\u001b[39;49m\u001b[43m,\u001b[49m\n\u001b[1;32m     15\u001b[0m \u001b[43m)\u001b[49m\n",
      "File \u001b[0;32m~/Software/xenon_software/alea/alea/runner.py:108\u001b[0m, in \u001b[0;36mRunner.__init__\u001b[0;34m(self, statistical_model, poi, hypotheses, n_mc, common_hypothesis, generate_values, nominal_values, statistical_model_config, parameter_definition, statistical_model_args, likelihood_config, compute_confidence_interval, confidence_level, confidence_interval_kind, fit_strategy, toydata_mode, toydata_filename, only_toydata, output_filename, seed, metadata)\u001b[0m\n\u001b[1;32m    105\u001b[0m \u001b[38;5;66;03m# if statistical_model_config is provided\u001b[39;00m\n\u001b[1;32m    106\u001b[0m \u001b[38;5;66;03m# overwrite parameter_definition and likelihood_config\u001b[39;00m\n\u001b[1;32m    107\u001b[0m \u001b[38;5;28;01mif\u001b[39;00m statistical_model_config \u001b[38;5;129;01mis\u001b[39;00m \u001b[38;5;129;01mnot\u001b[39;00m \u001b[38;5;28;01mNone\u001b[39;00m:\n\u001b[0;32m--> 108\u001b[0m     model_config \u001b[38;5;241m=\u001b[39m \u001b[43mload_yaml\u001b[49m\u001b[43m(\u001b[49m\u001b[43mstatistical_model_config\u001b[49m\u001b[43m)\u001b[49m\n\u001b[1;32m    109\u001b[0m     \u001b[38;5;28;01mif\u001b[39;00m parameter_definition \u001b[38;5;129;01mis\u001b[39;00m \u001b[38;5;129;01mnot\u001b[39;00m \u001b[38;5;28;01mNone\u001b[39;00m:\n\u001b[1;32m    110\u001b[0m         \u001b[38;5;28;01mraise\u001b[39;00m \u001b[38;5;167;01mValueError\u001b[39;00m(\n\u001b[1;32m    111\u001b[0m             \u001b[38;5;124m\"\u001b[39m\u001b[38;5;124mparameter_definition is duplicated, \u001b[39m\u001b[38;5;124m\"\u001b[39m\n\u001b[1;32m    112\u001b[0m             \u001b[38;5;124m\"\u001b[39m\u001b[38;5;124mbecause statistical_model_config is provided!\u001b[39m\u001b[38;5;124m\"\u001b[39m\n\u001b[1;32m    113\u001b[0m         )\n",
      "File \u001b[0;32m~/Software/xenon_software/alea/alea/utils.py:231\u001b[0m, in \u001b[0;36mload_yaml\u001b[0;34m(file_name)\u001b[0m\n\u001b[1;32m    229\u001b[0m \u001b[38;5;28;01mdef\u001b[39;00m \u001b[38;5;21mload_yaml\u001b[39m(file_name: \u001b[38;5;28mstr\u001b[39m):\n\u001b[1;32m    230\u001b[0m \u001b[38;5;250m    \u001b[39m\u001b[38;5;124;03m\"\"\"Load data from yaml file.\"\"\"\u001b[39;00m\n\u001b[0;32m--> 231\u001b[0m     \u001b[38;5;28;01mwith\u001b[39;00m \u001b[38;5;28mopen\u001b[39m(\u001b[43mget_file_path\u001b[49m\u001b[43m(\u001b[49m\u001b[43mfile_name\u001b[49m\u001b[43m)\u001b[49m, \u001b[38;5;124m\"\u001b[39m\u001b[38;5;124mr\u001b[39m\u001b[38;5;124m\"\u001b[39m) \u001b[38;5;28;01mas\u001b[39;00m file:\n\u001b[1;32m    232\u001b[0m         data \u001b[38;5;241m=\u001b[39m yaml\u001b[38;5;241m.\u001b[39msafe_load(file)\n\u001b[1;32m    233\u001b[0m     \u001b[38;5;28;01mreturn\u001b[39;00m data\n",
      "File \u001b[0;32m~/Software/xenon_software/alea/alea/utils.py:360\u001b[0m, in \u001b[0;36mget_file_path\u001b[0;34m(fname, folder_list)\u001b[0m\n\u001b[1;32m    357\u001b[0m     \u001b[38;5;28;01mpass\u001b[39;00m\n\u001b[1;32m    359\u001b[0m \u001b[38;5;66;03m# raise error when can not find corresponding file\u001b[39;00m\n\u001b[0;32m--> 360\u001b[0m \u001b[38;5;28;01mraise\u001b[39;00m \u001b[38;5;167;01mRuntimeError\u001b[39;00m(\u001b[38;5;124mf\u001b[39m\u001b[38;5;124m\"\u001b[39m\u001b[38;5;124mCan not find \u001b[39m\u001b[38;5;132;01m{\u001b[39;00mfname\u001b[38;5;132;01m}\u001b[39;00m\u001b[38;5;124m, please check your file system\u001b[39m\u001b[38;5;124m\"\u001b[39m)\n",
      "\u001b[0;31mRuntimeError\u001b[0m: Can not find xlzd_model_unconstrained_nu.yaml, please check your file system"
     ]
    }
   ],
   "source": [
    "\n",
    "livetime = 14\n",
    "true_corm = 1.\n",
    "\n",
    "runner = Runner(\n",
    "    statistical_model = \"alea.BlueiceExtendedModel\",\n",
    "    statistical_model_config=\"xlzd_model_unconstrained_nu.yaml\", \n",
    "    hypotheses = [\"free\",\"zero\"],\n",
    "    poi = \"CEvNS_other_rate_multiplier\",\n",
    "    nominal_values = {\"livetime\":livetime},\n",
    "    generate_values = {\"CEvNS_other_rate_multiplier\":true_corm},\n",
    "    compute_confidence_interval = True,\n",
    "    output_filename = \"toymc_xlzd_cevns_other_rate_multiploier{:.2f}_{:.1f}ty.ii.hf\".format(true_corm, livetime),\n",
    "    toydata_mode = \"generate\",\n",
    "    n_mc = 10,\n",
    ")\n",
    "\n"
   ]
  },
  {
   "cell_type": "code",
   "execution_count": 80,
   "id": "ff6db42c-fa5f-4042-bbe2-7566c9f4d22e",
   "metadata": {
    "tags": []
   },
   "outputs": [
    {
     "name": "stderr",
     "output_type": "stream",
     "text": [
      "100%|██████████| 100/100 [00:10<00:00,  9.17it/s]\n"
     ]
    },
    {
     "name": "stdout",
     "output_type": "stream",
     "text": [
      "Saving toymc_xlzd_cevns_other_rate_multiploier1.00_14.0ty.ii.hf\n",
      "Used real time 11.12s, CPU time 10.92s\n",
      "Alea iacta est.\n"
     ]
    }
   ],
   "source": [
    "runner.run()"
   ]
  },
  {
   "cell_type": "code",
   "execution_count": 81,
   "id": "52446601-5150-4c3b-ada5-45f1ce632e7a",
   "metadata": {
    "tags": []
   },
   "outputs": [
    {
     "data": {
      "text/plain": [
       "\u001b[0;31mSignature:\u001b[0m\n",
       "\u001b[0mii\u001b[0m\u001b[0;34m.\u001b[0m\u001b[0mtoydata_to_file\u001b[0m\u001b[0;34m(\u001b[0m\u001b[0;34m\u001b[0m\n",
       "\u001b[0;34m\u001b[0m    \u001b[0mfile_name\u001b[0m\u001b[0;34m,\u001b[0m\u001b[0;34m\u001b[0m\n",
       "\u001b[0;34m\u001b[0m    \u001b[0mdatasets_array\u001b[0m\u001b[0;34m,\u001b[0m\u001b[0;34m\u001b[0m\n",
       "\u001b[0;34m\u001b[0m    \u001b[0mdataset_names\u001b[0m\u001b[0;34m,\u001b[0m\u001b[0;34m\u001b[0m\n",
       "\u001b[0;34m\u001b[0m    \u001b[0moverwrite_existing_file\u001b[0m\u001b[0;34m=\u001b[0m\u001b[0;32mTrue\u001b[0m\u001b[0;34m,\u001b[0m\u001b[0;34m\u001b[0m\n",
       "\u001b[0;34m\u001b[0m    \u001b[0mmetadata\u001b[0m\u001b[0;34m=\u001b[0m\u001b[0;34m{\u001b[0m\u001b[0;34m'version'\u001b[0m\u001b[0;34m:\u001b[0m \u001b[0;34m'0.0'\u001b[0m\u001b[0;34m,\u001b[0m \u001b[0;34m'date'\u001b[0m\u001b[0;34m:\u001b[0m \u001b[0;34m'20241106_11:09:10'\u001b[0m\u001b[0;34m}\u001b[0m\u001b[0;34m,\u001b[0m\u001b[0;34m\u001b[0m\n",
       "\u001b[0;34m\u001b[0m\u001b[0;34m)\u001b[0m\u001b[0;34m\u001b[0m\u001b[0;34m\u001b[0m\u001b[0m\n",
       "\u001b[0;31mDocstring:\u001b[0m\n",
       "Function to store toy data (in the form of numpy structured arrays) in a hdf5 file\n",
       ":param datasets_array: list of list of datasets.\n",
       "(So each element is a list of datasets-- calibration, science, ancillary)\n",
       ":param dataset_names: list of the names of each dataset\n",
       "(so e.g. data_sci, data_cal, data_anc) toyMC true generator parameters\n",
       "may also be stored this way.\n",
       "If overwrite_existing_file is true, a new file is created overwriting the old,\n",
       "otherwise, the file is created if absent and appended to otherwise.\n",
       "\u001b[0;31mFile:\u001b[0m      ~/.conda/envs/flamedisx_xlzd/lib/python3.11/site-packages/inference_interface.py\n",
       "\u001b[0;31mType:\u001b[0m      function"
      ]
     },
     "metadata": {},
     "output_type": "display_data"
    }
   ],
   "source": [
    "ii.toydata_to_file?"
   ]
  },
  {
   "cell_type": "code",
   "execution_count": 5,
   "id": "180877b8-0a14-4f9d-b51d-59f23d536a59",
   "metadata": {
    "tags": []
   },
   "outputs": [
    {
     "data": {
      "image/png": "[encoded data removed]",
      "text/plain": [
       "<Figure size 640x480 with 1 Axes>"
      ]
     },
     "metadata": {},
     "output_type": "display_data"
    }
   ],
   "source": [
    "plt.clf()\n",
    "for exposure in [14,140,1400]:\n",
    "    res_null = ii.toyfiles_to_numpy(\"toymc_xlzd_cevns_other_rate_multiploier0.00_{:.1f}ty.ii.hf\".format(exposure))\n",
    "    res_nominal = ii.toyfiles_to_numpy(\"toymc_xlzd_cevns_other_rate_multiploier1.00_{:.1f}ty.ii.hf\".format(exposure))\n",
    "    llr_disc_null = res_null[\"free\"][\"ll\"]- res_null[\"zero\"][\"ll\"]\n",
    "    llr_disc_nominal = res_nominal[\"free\"][\"ll\"]- res_nominal[\"zero\"][\"ll\"]\n",
    "    \n",
    "    plt.scatter([exposure], np.percentile(llr_disc_nominal, 50), color=\"k\")\n",
    "    plt.scatter([exposure], np.percentile(llr_disc_nominal, 15), color=\"darkgreen\")\n",
    "    plt.scatter([exposure], np.percentile(llr_disc_nominal, 85), color=\"darkgreen\")\n",
    "\n",
    "plt.xscale(\"log\")\n",
    "plt.yscale(\"log\")\n",
    "plt.ylim(0.1,100)\n",
    "plt.xlabel(\"Exposure [ty]\")\n",
    "plt.ylabel(\"Asymptotic significance [log-likelihood ratio]\")\n",
    "plt.show()\n",
    "    "
   ]
  },
  {
   "cell_type": "code",
   "execution_count": 76,
   "id": "f1c3caff-6476-40b2-8705-972ef1c84bb1",
   "metadata": {
    "tags": []
   },
   "outputs": [],
   "source": []
  },
  {
   "cell_type": "code",
   "execution_count": 77,
   "id": "f95ed9a6-7d0c-4be7-8b3c-91fb5b4725f9",
   "metadata": {
    "tags": []
   },
   "outputs": [],
   "source": [
    "llr_disc_null = res_null[\"free\"][\"ll\"]- res_null[\"zero\"][\"ll\"]\n",
    "llr_disc_nominal = res_nominal[\"free\"][\"ll\"]- res_nominal[\"zero\"][\"ll\"]"
   ]
  },
  {
   "cell_type": "code",
   "execution_count": 78,
   "id": "7625b249-1265-4235-be8f-16175950fbc3",
   "metadata": {
    "tags": []
   },
   "outputs": [
    {
     "data": {
      "image/png": "[encoded data removed]",
      "text/plain": [
       "<Figure size 640x480 with 1 Axes>"
      ]
     },
     "metadata": {},
     "output_type": "display_data"
    }
   ],
   "source": [
    "plt.clf()\n",
    "bins = np.linspace(-1,100,1001)\n",
    "plt.hist(llr_disc_null, bins=bins, cumulative=-1, density=True, color=\"darkgray\")\n",
    "plt.hist(llr_disc_nominal, bins=bins, cumulative=-1, density=True, color=\"magenta\", histtype=\"step\")\n",
    "plt.plot(bins, 0.5*sps.chi2(1).sf(bins), linestyle=\"--\",color=\"k\")\n",
    "plt.yscale(\"log\")\n",
    "plt.ylim(0.5/len(llr_disc_null), 1.)\n",
    "plt.xlim(0,25)\n",
    "plt.show()\n",
    "\n",
    "\n"
   ]
  },
  {
   "cell_type": "code",
   "execution_count": null,
   "id": "3a367cc8-a41e-47f4-bf67-b45628be9ec7",
   "metadata": {},
   "outputs": [],
   "source": []
  }
 ],
 "metadata": {
  "kernelspec": {
   "display_name": "Python 3 (ipykernel)",
   "language": "python",
   "name": "python3"
  },
  "language_info": {
   "codemirror_mode": {
    "name": "ipython",
    "version": 3
   },
   "file_extension": ".py",
   "mimetype": "text/x-python",
   "name": "python",
   "nbconvert_exporter": "python",
   "pygments_lexer": "ipython3",
   "version": "3.8.15"
  }
 },
 "nbformat": 4,
 "nbformat_minor": 5
}
